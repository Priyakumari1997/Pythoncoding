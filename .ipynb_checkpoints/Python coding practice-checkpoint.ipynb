{
 "cells": [
  {
   "cell_type": "markdown",
   "id": "236d66bc",
   "metadata": {},
   "source": [
    "# find factorial"
   ]
  },
  {
   "cell_type": "code",
   "execution_count": 4,
   "id": "1882a79e",
   "metadata": {},
   "outputs": [
    {
     "data": {
      "text/plain": [
       "120"
      ]
     },
     "execution_count": 4,
     "metadata": {},
     "output_type": "execute_result"
    }
   ],
   "source": [
    "def fact(n):\n",
    "    return n if n == 1 else  n * fact(n-1)\n",
    "fact(5)"
   ]
  },
  {
   "cell_type": "markdown",
   "id": "89a8ab30",
   "metadata": {},
   "source": [
    "# Find fibonacci series"
   ]
  },
  {
   "cell_type": "code",
   "execution_count": 17,
   "id": "a629c859",
   "metadata": {},
   "outputs": [
    {
     "name": "stdout",
     "output_type": "stream",
     "text": [
      "0 1 1 2 3 5 8 13 "
     ]
    }
   ],
   "source": [
    "#eg = 0,1,1,2,3,5,8......\n",
    "def findfibonacci(n):\n",
    "    return n if n == 0 or n == 1 else findfibonacci(n-1) + findfibonacci(n-2)\n",
    "for i in range(8):\n",
    "    print(findfibonacci(i),end =\" \")"
   ]
  },
  {
   "cell_type": "markdown",
   "id": "4dd89088",
   "metadata": {},
   "source": [
    "# Reverse the array"
   ]
  },
  {
   "cell_type": "code",
   "execution_count": 20,
   "id": "2c82ccda",
   "metadata": {},
   "outputs": [
    {
     "name": "stdout",
     "output_type": "stream",
     "text": [
      "[9, 8, 3, 2, 1]\n"
     ]
    }
   ],
   "source": [
    "arr= [1, 2, 3,8 ,9]\n",
    "i = 0\n",
    "j = len(arr)-1\n",
    "while i < j:\n",
    "    arr[i],arr[j] = arr[j],arr[i]\n",
    "    i=i+1\n",
    "    j=j-1\n",
    "print(arr)\n"
   ]
  },
  {
   "cell_type": "markdown",
   "id": "f733eb9c",
   "metadata": {},
   "source": [
    "# Reverse the string"
   ]
  },
  {
   "cell_type": "code",
   "execution_count": 26,
   "id": "ba16daf7",
   "metadata": {},
   "outputs": [
    {
     "name": "stdout",
     "output_type": "stream",
     "text": [
      "emoclew\n"
     ]
    }
   ],
   "source": [
    "s = \"welcome\"\n",
    "s= list(s)\n",
    "i = 0\n",
    "j = len(s)-1\n",
    "while i < j:\n",
    "    s[i],s[j] = s[j],s[i]\n",
    "    i=i+1\n",
    "    j=j-1\n",
    "print(\"\".join(s))\n"
   ]
  },
  {
   "cell_type": "code",
   "execution_count": 27,
   "id": "021cb38a",
   "metadata": {},
   "outputs": [
    {
     "name": "stdout",
     "output_type": "stream",
     "text": [
      "emoclew\n"
     ]
    }
   ],
   "source": [
    "s = \"welcome\"\n",
    "output = \"\"\n",
    "for i in range(len(s)-1,-1,-1):\n",
    "    output = output + s[i]\n",
    "print(output)"
   ]
  },
  {
   "cell_type": "markdown",
   "id": "06ad1d86",
   "metadata": {},
   "source": [
    "# Check whether a String is Palindrome or not"
   ]
  },
  {
   "cell_type": "code",
   "execution_count": 31,
   "id": "23eb0d47",
   "metadata": {},
   "outputs": [
    {
     "name": "stdout",
     "output_type": "stream",
     "text": [
      "yes pallindrome\n"
     ]
    }
   ],
   "source": [
    "s = \"madam\"\n",
    "if s == s[::-1]:\n",
    "    print(\"yes pallindrome\")"
   ]
  },
  {
   "cell_type": "markdown",
   "id": "71bb6c12",
   "metadata": {},
   "source": [
    "#Find Duplicate characters in a string"
   ]
  },
  {
   "cell_type": "code",
   "execution_count": 42,
   "id": "b0eb970a",
   "metadata": {},
   "outputs": [
    {
     "name": "stdout",
     "output_type": "stream",
     "text": [
      "ts\n"
     ]
    }
   ],
   "source": [
    "inp = \"test string\"\n",
    "from collections import Counter\n",
    "goal = \"\"\n",
    "x=Counter(inp)\n",
    "for i in inp:\n",
    "    if x[i] > 1:\n",
    "        if i not in goal:\n",
    "            goal+=i\n",
    "print(goal)\n"
   ]
  },
  {
   "cell_type": "code",
   "execution_count": 20,
   "id": "a1f8576b",
   "metadata": {},
   "outputs": [
    {
     "name": "stdout",
     "output_type": "stream",
     "text": [
      "(('a', 2), ('b', 3), 'c', ('d', 3), 'e')\n"
     ]
    }
   ],
   "source": [
    "\n",
    "a=\"aabbbcddde\"\n",
    "#output=(a,2)(b,3)c(d,3)e\n",
    "from collections import Counter\n",
    "s = Counter(a)\n",
    "total=[]\n",
    "for key, val in s.items():\n",
    "    if val>1:\n",
    "        total.append(( key, val))\n",
    "    else:\n",
    "        total.append(key)\n",
    "print(tuple(total))\n"
   ]
  },
  {
   "cell_type": "code",
   "execution_count": 23,
   "id": "f5d67f85",
   "metadata": {},
   "outputs": [
    {
     "name": "stdout",
     "output_type": "stream",
     "text": [
      "(a 2)(b 3)(c 1)(d 3)(e 1)\n"
     ]
    }
   ],
   "source": [
    "import itertools\n",
    "a = \"aabbbcddde\"\n",
    "output = ''.join(f\"({char} {len(list(group))})\" for char, group in itertools.groupby(a))\n",
    "\n",
    "print(output)"
   ]
  },
  {
   "cell_type": "markdown",
   "id": "4bca0b8b",
   "metadata": {},
   "source": [
    "# Count and Say problem"
   ]
  },
  {
   "cell_type": "code",
   "execution_count": 7,
   "id": "355af575",
   "metadata": {},
   "outputs": [
    {
     "name": "stdout",
     "output_type": "stream",
     "text": [
      "23321511\n"
     ]
    }
   ],
   "source": [
    "inp = \"3322251\"\n",
    "inp = inp + '$'\n",
    "#out = \"23321511\"\n",
    "s=\"\"\n",
    "c=1\n",
    "for i in range(1,len(inp)):\n",
    "    if  inp[i] == inp[i-1]:\n",
    "        c =c + 1\n",
    "    else:\n",
    "        s = s + str(c) + inp[i-1]\n",
    "        c=1\n",
    "print(s)\n",
    "    "
   ]
  },
  {
   "cell_type": "markdown",
   "id": "383ffb27",
   "metadata": {},
   "source": [
    "# Find the maximum and minimum element in an array"
   ]
  },
  {
   "cell_type": "code",
   "execution_count": 10,
   "id": "afe26f7d",
   "metadata": {},
   "outputs": [
    {
     "name": "stdout",
     "output_type": "stream",
     "text": [
      "9\n"
     ]
    }
   ],
   "source": [
    "arr = [3, 5, 4, 1, 9]\n",
    "#Output: Minimum element is: 1\n",
    "#Maximum element is: 9\n",
    "m = arr[0]\n",
    "for i in range(1,len(arr)):\n",
    "    if arr[i] > m :\n",
    "        m = arr[i]\n",
    "print(m)"
   ]
  },
  {
   "cell_type": "markdown",
   "id": "24e0d951",
   "metadata": {},
   "source": [
    "# Find the \"Kth\" max and min element of an array "
   ]
  },
  {
   "cell_type": "code",
   "execution_count": 15,
   "id": "2027ea3d",
   "metadata": {},
   "outputs": [
    {
     "name": "stdout",
     "output_type": "stream",
     "text": [
      "7\n"
     ]
    }
   ],
   "source": [
    "arr= [7, 10, 4, 3, 20, 15]\n",
    "k = 3 \n",
    "#Output: 7\n",
    "x=sorted(arr)\n",
    "print(x[k-1])"
   ]
  },
  {
   "cell_type": "markdown",
   "id": "bfb4a104",
   "metadata": {},
   "source": [
    "# Move all negative numbers to beginning and positive to end with constant extra space"
   ]
  },
  {
   "cell_type": "code",
   "execution_count": 18,
   "id": "22830024",
   "metadata": {},
   "outputs": [
    {
     "name": "stdout",
     "output_type": "stream",
     "text": [
      "[-12, -13, -5, -7, -3, -6, 5, 6, 11]\n"
     ]
    }
   ],
   "source": [
    "inp= [-12, 11, -13, -5, 6, -7, 5, -3, -6]\n",
    "#Output: -12 -13 -5 -7 -3 -6 11 6 5\n",
    "j=0\n",
    "for i in range(len(inp)):\n",
    "    if inp[i] < 0:\n",
    "        inp[j],inp[i] = inp[i],inp[j]\n",
    "        j=j +1\n",
    "print(inp)"
   ]
  },
  {
   "cell_type": "markdown",
   "id": "6bcecd2b",
   "metadata": {},
   "source": [
    "# Find the Union and Intersection of the two sorted arrays."
   ]
  },
  {
   "cell_type": "code",
   "execution_count": 23,
   "id": "0c81e6e0",
   "metadata": {},
   "outputs": [
    {
     "name": "stdout",
     "output_type": "stream",
     "text": [
      "[1, 2, 3, 4, 5, 6, 7]\n"
     ]
    }
   ],
   "source": [
    "arr1 = [1, 3, 4, 5, 7]\n",
    "arr2 = [2, 3, 5, 6]\n",
    "out=[]\n",
    "i=0 \n",
    "j=0\n",
    "while i<len(arr1) and j<len(arr2):\n",
    "    if arr1[i] == arr2[j]:\n",
    "        out.append(arr1[i])\n",
    "        i=i+1\n",
    "        j=j+1\n",
    "    elif arr1[i]<arr2[j]:\n",
    "        out.append(arr1[i])\n",
    "        i=i+1\n",
    "    else:\n",
    "        out.append(arr2[j])\n",
    "        j=j+1\n",
    "while i < len(arr1):\n",
    "    out.append(arr1[i])\n",
    "    i=i+1\n",
    "     \n",
    "print(out)"
   ]
  },
  {
   "cell_type": "markdown",
   "id": "4418e1de",
   "metadata": {},
   "source": [
    "# Write a program to cyclically rotate an array by one."
   ]
  },
  {
   "cell_type": "code",
   "execution_count": 3,
   "id": "52be6b28",
   "metadata": {},
   "outputs": [
    {
     "name": "stdout",
     "output_type": "stream",
     "text": [
      "[5, 1, 2, 3, 4]\n"
     ]
    }
   ],
   "source": [
    "arr = [1, 2, 3, 4, 5]\n",
    "x=arr[-1]\n",
    "for i in range(len(arr)-1,0,-1):\n",
    "    arr[i]=arr[i-1]\n",
    "arr[0]=x\n",
    "print(arr)   \n",
    "#Output: arr[] = {5, 1, 2, 3, 4}"
   ]
  },
  {
   "cell_type": "markdown",
   "id": "38d3774f",
   "metadata": {},
   "source": [
    "# find all pairs on integer array whose sum is equal to given number"
   ]
  },
  {
   "cell_type": "code",
   "execution_count": 3,
   "id": "e26f4b72",
   "metadata": {},
   "outputs": [
    {
     "name": "stdout",
     "output_type": "stream",
     "text": [
      "0\n"
     ]
    }
   ],
   "source": [
    "arr=[1, 5, 7, -1], \n",
    "sum = 6\n",
    "c=0\n",
    "for i in range(len(arr)):\n",
    "    for j in range(i+1,len(arr)):\n",
    "        print(arr[i],arr[j])\n",
    "        if arr[i] + arr[j] == sum:\n",
    "            c = c + 1\n",
    "            print(arr[i],arr[j])\n",
    "print(c)"
   ]
  },
  {
   "cell_type": "code",
   "execution_count": null,
   "id": "59f7a7c4",
   "metadata": {},
   "outputs": [],
   "source": []
  }
 ],
 "metadata": {
  "kernelspec": {
   "display_name": "Python 3 (ipykernel)",
   "language": "python",
   "name": "python3"
  },
  "language_info": {
   "codemirror_mode": {
    "name": "ipython",
    "version": 3
   },
   "file_extension": ".py",
   "mimetype": "text/x-python",
   "name": "python",
   "nbconvert_exporter": "python",
   "pygments_lexer": "ipython3",
   "version": "3.8.10"
  }
 },
 "nbformat": 4,
 "nbformat_minor": 5
}
