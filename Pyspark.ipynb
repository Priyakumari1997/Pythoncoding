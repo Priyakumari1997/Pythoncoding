{
 "cells": [
  {
   "cell_type": "code",
   "execution_count": 1,
   "id": "37604d19",
   "metadata": {},
   "outputs": [],
   "source": [
    "#Build the pyspark session\n",
    "from pyspark.sql import SparkSession"
   ]
  },
  {
   "cell_type": "code",
   "execution_count": 2,
   "id": "2a2a861a",
   "metadata": {},
   "outputs": [],
   "source": [
    "spark = SparkSession.builder.appName('Practice').getOrCreate()"
   ]
  },
  {
   "cell_type": "code",
   "execution_count": 3,
   "id": "5714fe35",
   "metadata": {},
   "outputs": [
    {
     "data": {
      "text/html": [
       "\n",
       "            <div>\n",
       "                <p><b>SparkSession - in-memory</b></p>\n",
       "                \n",
       "        <div>\n",
       "            <p><b>SparkContext</b></p>\n",
       "\n",
       "            <p><a href=\"http://LAPTOP-SQ0UGG11:4040\">Spark UI</a></p>\n",
       "\n",
       "            <dl>\n",
       "              <dt>Version</dt>\n",
       "                <dd><code>v3.4.0</code></dd>\n",
       "              <dt>Master</dt>\n",
       "                <dd><code>local[*]</code></dd>\n",
       "              <dt>AppName</dt>\n",
       "                <dd><code>Practice</code></dd>\n",
       "            </dl>\n",
       "        </div>\n",
       "        \n",
       "            </div>\n",
       "        "
      ],
      "text/plain": [
       "<pyspark.sql.session.SparkSession at 0x2424040edc0>"
      ]
     },
     "execution_count": 3,
     "metadata": {},
     "output_type": "execute_result"
    }
   ],
   "source": [
    "spark"
   ]
  },
  {
   "cell_type": "code",
   "execution_count": 8,
   "id": "9ffd471a",
   "metadata": {},
   "outputs": [],
   "source": [
    "#read the dataset\n",
    "df_pyspark = spark.read.option(\"header\",\"True\").csv('Book11.csv',inferSchema=True)"
   ]
  },
  {
   "cell_type": "code",
   "execution_count": 9,
   "id": "03f950b0",
   "metadata": {},
   "outputs": [
    {
     "name": "stdout",
     "output_type": "stream",
     "text": [
      "root\n",
      " |-- ICON: string (nullable = true)\n",
      " |-- BRISB: string (nullable = true)\n",
      " |-- Code: double (nullable = true)\n",
      " |-- AUD: string (nullable = true)\n",
      " |-- KG: integer (nullable = true)\n",
      " |-- verm: integer (nullable = true)\n",
      "\n"
     ]
    }
   ],
   "source": [
    "#checking the schema or checking the datatype of columns\n",
    "df_pyspark.printSchema()"
   ]
  },
  {
   "cell_type": "code",
   "execution_count": 11,
   "id": "88b123ab",
   "metadata": {},
   "outputs": [],
   "source": [
    "#read the dataset\n",
    "df_pyspark = spark.read.csv('Book11.csv',header = True,inferSchema=True)"
   ]
  },
  {
   "cell_type": "code",
   "execution_count": 12,
   "id": "1087c94b",
   "metadata": {},
   "outputs": [
    {
     "name": "stdout",
     "output_type": "stream",
     "text": [
      "+----+-------------+-------+----+----+------+\n",
      "|ICON|        BRISB|   Code| AUD|  KG|  verm|\n",
      "+----+-------------+-------+----+----+------+\n",
      "|  IG|AZ-BIOTMP-18K|14.8324| AUD|null|  null|\n",
      "|  IG|AZ-BIOTMP-18K|15.8324|null|null|  null|\n",
      "|  IG|AZ-BIOTMP-18K|16.8324|null|null|  null|\n",
      "|  IG|AZ-BIOTMP-18K|17.8324|null|null|  null|\n",
      "|  IG|AZ-BIOTMP-18K|18.8324|null|null|  null|\n",
      "|  IG|AZ-BIOTMP-18K|19.8324|null|null|  null|\n",
      "|  IG|AZ-BIOTMP-18K|20.8324|null|null|  null|\n",
      "|  IG|AZ-BIOTMP-18K|21.8324|null|null|230331|\n",
      "|  IG|AZ-BIOTMP-18K|22.8324|null|   5|230332|\n",
      "|  IG|AZ-BIOTMP-18K|14.8007|null|   6|230333|\n",
      "|  IG|AZ-BIOTMP-18K|15.8007|null|   7|230334|\n",
      "|  IG|AZ-BIOTMP-18K|16.8007|null|   8|230335|\n",
      "|  IG|AZ-BIOTMP-18K|17.8007|null|null|230336|\n",
      "|  IG|AZ-BIOTMP-18K|18.8007|null|null|230337|\n",
      "|  IG|AZ-BIOTMP-18K|19.8007|null|null|230338|\n",
      "|  IG|AZ-BIOTMP-18K|20.8007|null|null|  null|\n",
      "|  IG| AZ-SPSX2-20K|21.8007|null|null|  null|\n",
      "|  IG| AZ-SPSX2-20K|22.8007|null|null|  null|\n",
      "|  IG| AZ-SPSX2-20K|23.8007|null|null|  null|\n",
      "|  IG| AZ-SPSX2-20K|24.8007|null|null|  null|\n",
      "+----+-------------+-------+----+----+------+\n",
      "only showing top 20 rows\n",
      "\n"
     ]
    }
   ],
   "source": [
    "df_pyspark.show()"
   ]
  },
  {
   "cell_type": "code",
   "execution_count": 13,
   "id": "b980dfec",
   "metadata": {},
   "outputs": [
    {
     "name": "stdout",
     "output_type": "stream",
     "text": [
      "root\n",
      " |-- ICON: string (nullable = true)\n",
      " |-- BRISB: string (nullable = true)\n",
      " |-- Code: double (nullable = true)\n",
      " |-- AUD: string (nullable = true)\n",
      " |-- KG: integer (nullable = true)\n",
      " |-- verm: integer (nullable = true)\n",
      "\n"
     ]
    }
   ],
   "source": [
    "#checking the schema or checking the datatype of columns\n",
    "df_pyspark.printSchema()"
   ]
  },
  {
   "cell_type": "code",
   "execution_count": 14,
   "id": "33a24940",
   "metadata": {},
   "outputs": [
    {
     "data": {
      "text/plain": [
       "pyspark.sql.dataframe.DataFrame"
      ]
     },
     "execution_count": 14,
     "metadata": {},
     "output_type": "execute_result"
    }
   ],
   "source": [
    "type(df_pyspark)"
   ]
  },
  {
   "cell_type": "code",
   "execution_count": 15,
   "id": "8b1953ec",
   "metadata": {},
   "outputs": [
    {
     "data": {
      "text/plain": [
       "['ICON', 'BRISB', 'Code', 'AUD', 'KG', 'verm']"
      ]
     },
     "execution_count": 15,
     "metadata": {},
     "output_type": "execute_result"
    }
   ],
   "source": [
    "#to get all the columns \n",
    "df_pyspark.columns"
   ]
  },
  {
   "cell_type": "code",
   "execution_count": 16,
   "id": "075425b9",
   "metadata": {},
   "outputs": [
    {
     "data": {
      "text/plain": [
       "[Row(ICON='IG', BRISB='AZ-BIOTMP-18K', Code=14.8324, AUD='AUD', KG=None, verm=None),\n",
       " Row(ICON='IG', BRISB='AZ-BIOTMP-18K', Code=15.8324, AUD=None, KG=None, verm=None),\n",
       " Row(ICON='IG', BRISB='AZ-BIOTMP-18K', Code=16.8324, AUD=None, KG=None, verm=None)]"
      ]
     },
     "execution_count": 16,
     "metadata": {},
     "output_type": "execute_result"
    }
   ],
   "source": [
    "df_pyspark.head(3)"
   ]
  },
  {
   "cell_type": "code",
   "execution_count": 18,
   "id": "b34e9847",
   "metadata": {},
   "outputs": [
    {
     "name": "stdout",
     "output_type": "stream",
     "text": [
      "+----+\n",
      "|ICON|\n",
      "+----+\n",
      "|  IG|\n",
      "|  IG|\n",
      "|  IG|\n",
      "|  IG|\n",
      "|  IG|\n",
      "|  IG|\n",
      "|  IG|\n",
      "|  IG|\n",
      "|  IG|\n",
      "|  IG|\n",
      "|  IG|\n",
      "|  IG|\n",
      "|  IG|\n",
      "|  IG|\n",
      "|  IG|\n",
      "|  IG|\n",
      "|  IG|\n",
      "|  IG|\n",
      "|  IG|\n",
      "|  IG|\n",
      "+----+\n",
      "only showing top 20 rows\n",
      "\n"
     ]
    }
   ],
   "source": [
    "#for selecting a column\n",
    "df_pyspark.select('ICON').show()"
   ]
  },
  {
   "cell_type": "code",
   "execution_count": 20,
   "id": "f007cfbd",
   "metadata": {},
   "outputs": [
    {
     "name": "stdout",
     "output_type": "stream",
     "text": [
      "+----+-------------+\n",
      "|ICON|        BRISB|\n",
      "+----+-------------+\n",
      "|  IG|AZ-BIOTMP-18K|\n",
      "|  IG|AZ-BIOTMP-18K|\n",
      "|  IG|AZ-BIOTMP-18K|\n",
      "|  IG|AZ-BIOTMP-18K|\n",
      "|  IG|AZ-BIOTMP-18K|\n",
      "|  IG|AZ-BIOTMP-18K|\n",
      "|  IG|AZ-BIOTMP-18K|\n",
      "|  IG|AZ-BIOTMP-18K|\n",
      "|  IG|AZ-BIOTMP-18K|\n",
      "|  IG|AZ-BIOTMP-18K|\n",
      "|  IG|AZ-BIOTMP-18K|\n",
      "|  IG|AZ-BIOTMP-18K|\n",
      "|  IG|AZ-BIOTMP-18K|\n",
      "|  IG|AZ-BIOTMP-18K|\n",
      "|  IG|AZ-BIOTMP-18K|\n",
      "|  IG|AZ-BIOTMP-18K|\n",
      "|  IG| AZ-SPSX2-20K|\n",
      "|  IG| AZ-SPSX2-20K|\n",
      "|  IG| AZ-SPSX2-20K|\n",
      "|  IG| AZ-SPSX2-20K|\n",
      "+----+-------------+\n",
      "only showing top 20 rows\n",
      "\n"
     ]
    }
   ],
   "source": [
    "#for selecting multiple column\n",
    "df_pyspark.select(['ICON','BRISB']).show()"
   ]
  },
  {
   "cell_type": "code",
   "execution_count": 22,
   "id": "7ab582cb",
   "metadata": {},
   "outputs": [
    {
     "data": {
      "text/plain": [
       "[('ICON', 'string'),\n",
       " ('BRISB', 'string'),\n",
       " ('Code', 'double'),\n",
       " ('AUD', 'string'),\n",
       " ('KG', 'int'),\n",
       " ('verm', 'int')]"
      ]
     },
     "execution_count": 22,
     "metadata": {},
     "output_type": "execute_result"
    }
   ],
   "source": [
    "#for checking datatypes\n",
    "df_pyspark.dtypes"
   ]
  },
  {
   "cell_type": "code",
   "execution_count": 24,
   "id": "4a7dc47c",
   "metadata": {},
   "outputs": [
    {
     "data": {
      "text/plain": [
       "DataFrame[summary: string, ICON: string, BRISB: string, Code: string, AUD: string, KG: string, verm: string]"
      ]
     },
     "execution_count": 24,
     "metadata": {},
     "output_type": "execute_result"
    }
   ],
   "source": [
    "#for describing datafarame\n",
    "df_pyspark.describe()"
   ]
  },
  {
   "cell_type": "code",
   "execution_count": 27,
   "id": "c88993b6",
   "metadata": {},
   "outputs": [],
   "source": [
    "#Adding column in dataframe\n",
    "df_pyspark = df_pyspark.withColumn(\"grow\",df_pyspark['Code']*2)"
   ]
  },
  {
   "cell_type": "code",
   "execution_count": 28,
   "id": "c055ac0d",
   "metadata": {},
   "outputs": [
    {
     "name": "stdout",
     "output_type": "stream",
     "text": [
      "+----+-------------+-------+----+----+------+-------+\n",
      "|ICON|        BRISB|   Code| AUD|  KG|  verm|   grow|\n",
      "+----+-------------+-------+----+----+------+-------+\n",
      "|  IG|AZ-BIOTMP-18K|14.8324| AUD|null|  null|29.6648|\n",
      "|  IG|AZ-BIOTMP-18K|15.8324|null|null|  null|31.6648|\n",
      "|  IG|AZ-BIOTMP-18K|16.8324|null|null|  null|33.6648|\n",
      "|  IG|AZ-BIOTMP-18K|17.8324|null|null|  null|35.6648|\n",
      "|  IG|AZ-BIOTMP-18K|18.8324|null|null|  null|37.6648|\n",
      "|  IG|AZ-BIOTMP-18K|19.8324|null|null|  null|39.6648|\n",
      "|  IG|AZ-BIOTMP-18K|20.8324|null|null|  null|41.6648|\n",
      "|  IG|AZ-BIOTMP-18K|21.8324|null|null|230331|43.6648|\n",
      "|  IG|AZ-BIOTMP-18K|22.8324|null|   5|230332|45.6648|\n",
      "|  IG|AZ-BIOTMP-18K|14.8007|null|   6|230333|29.6014|\n",
      "|  IG|AZ-BIOTMP-18K|15.8007|null|   7|230334|31.6014|\n",
      "|  IG|AZ-BIOTMP-18K|16.8007|null|   8|230335|33.6014|\n",
      "|  IG|AZ-BIOTMP-18K|17.8007|null|null|230336|35.6014|\n",
      "|  IG|AZ-BIOTMP-18K|18.8007|null|null|230337|37.6014|\n",
      "|  IG|AZ-BIOTMP-18K|19.8007|null|null|230338|39.6014|\n",
      "|  IG|AZ-BIOTMP-18K|20.8007|null|null|  null|41.6014|\n",
      "|  IG| AZ-SPSX2-20K|21.8007|null|null|  null|43.6014|\n",
      "|  IG| AZ-SPSX2-20K|22.8007|null|null|  null|45.6014|\n",
      "|  IG| AZ-SPSX2-20K|23.8007|null|null|  null|47.6014|\n",
      "|  IG| AZ-SPSX2-20K|24.8007|null|null|  null|49.6014|\n",
      "+----+-------------+-------+----+----+------+-------+\n",
      "only showing top 20 rows\n",
      "\n"
     ]
    }
   ],
   "source": [
    "df_pyspark.show()"
   ]
  },
  {
   "cell_type": "code",
   "execution_count": 29,
   "id": "b3c9a35c",
   "metadata": {},
   "outputs": [
    {
     "name": "stdout",
     "output_type": "stream",
     "text": [
      "+----+-------------+-------+----+------+-------+\n",
      "|ICON|        BRISB|   Code|  KG|  verm|   grow|\n",
      "+----+-------------+-------+----+------+-------+\n",
      "|  IG|AZ-BIOTMP-18K|14.8324|null|  null|29.6648|\n",
      "|  IG|AZ-BIOTMP-18K|15.8324|null|  null|31.6648|\n",
      "|  IG|AZ-BIOTMP-18K|16.8324|null|  null|33.6648|\n",
      "|  IG|AZ-BIOTMP-18K|17.8324|null|  null|35.6648|\n",
      "|  IG|AZ-BIOTMP-18K|18.8324|null|  null|37.6648|\n",
      "|  IG|AZ-BIOTMP-18K|19.8324|null|  null|39.6648|\n",
      "|  IG|AZ-BIOTMP-18K|20.8324|null|  null|41.6648|\n",
      "|  IG|AZ-BIOTMP-18K|21.8324|null|230331|43.6648|\n",
      "|  IG|AZ-BIOTMP-18K|22.8324|   5|230332|45.6648|\n",
      "|  IG|AZ-BIOTMP-18K|14.8007|   6|230333|29.6014|\n",
      "|  IG|AZ-BIOTMP-18K|15.8007|   7|230334|31.6014|\n",
      "|  IG|AZ-BIOTMP-18K|16.8007|   8|230335|33.6014|\n",
      "|  IG|AZ-BIOTMP-18K|17.8007|null|230336|35.6014|\n",
      "|  IG|AZ-BIOTMP-18K|18.8007|null|230337|37.6014|\n",
      "|  IG|AZ-BIOTMP-18K|19.8007|null|230338|39.6014|\n",
      "|  IG|AZ-BIOTMP-18K|20.8007|null|  null|41.6014|\n",
      "|  IG| AZ-SPSX2-20K|21.8007|null|  null|43.6014|\n",
      "|  IG| AZ-SPSX2-20K|22.8007|null|  null|45.6014|\n",
      "|  IG| AZ-SPSX2-20K|23.8007|null|  null|47.6014|\n",
      "|  IG| AZ-SPSX2-20K|24.8007|null|  null|49.6014|\n",
      "+----+-------------+-------+----+------+-------+\n",
      "only showing top 20 rows\n",
      "\n"
     ]
    }
   ],
   "source": [
    "df_pyspark.drop('AUD').show()"
   ]
  },
  {
   "cell_type": "code",
   "execution_count": 31,
   "id": "713ac242",
   "metadata": {},
   "outputs": [
    {
     "name": "stdout",
     "output_type": "stream",
     "text": [
      "+----+-------------+-------+----+-----+------+-------+\n",
      "|ICON|        BRISB|   Code| AUD|NewKG|  verm|   grow|\n",
      "+----+-------------+-------+----+-----+------+-------+\n",
      "|  IG|AZ-BIOTMP-18K|14.8324| AUD| null|  null|29.6648|\n",
      "|  IG|AZ-BIOTMP-18K|15.8324|null| null|  null|31.6648|\n",
      "|  IG|AZ-BIOTMP-18K|16.8324|null| null|  null|33.6648|\n",
      "|  IG|AZ-BIOTMP-18K|17.8324|null| null|  null|35.6648|\n",
      "|  IG|AZ-BIOTMP-18K|18.8324|null| null|  null|37.6648|\n",
      "|  IG|AZ-BIOTMP-18K|19.8324|null| null|  null|39.6648|\n",
      "|  IG|AZ-BIOTMP-18K|20.8324|null| null|  null|41.6648|\n",
      "|  IG|AZ-BIOTMP-18K|21.8324|null| null|230331|43.6648|\n",
      "|  IG|AZ-BIOTMP-18K|22.8324|null|    5|230332|45.6648|\n",
      "|  IG|AZ-BIOTMP-18K|14.8007|null|    6|230333|29.6014|\n",
      "|  IG|AZ-BIOTMP-18K|15.8007|null|    7|230334|31.6014|\n",
      "|  IG|AZ-BIOTMP-18K|16.8007|null|    8|230335|33.6014|\n",
      "|  IG|AZ-BIOTMP-18K|17.8007|null| null|230336|35.6014|\n",
      "|  IG|AZ-BIOTMP-18K|18.8007|null| null|230337|37.6014|\n",
      "|  IG|AZ-BIOTMP-18K|19.8007|null| null|230338|39.6014|\n",
      "|  IG|AZ-BIOTMP-18K|20.8007|null| null|  null|41.6014|\n",
      "|  IG| AZ-SPSX2-20K|21.8007|null| null|  null|43.6014|\n",
      "|  IG| AZ-SPSX2-20K|22.8007|null| null|  null|45.6014|\n",
      "|  IG| AZ-SPSX2-20K|23.8007|null| null|  null|47.6014|\n",
      "|  IG| AZ-SPSX2-20K|24.8007|null| null|  null|49.6014|\n",
      "+----+-------------+-------+----+-----+------+-------+\n",
      "only showing top 20 rows\n",
      "\n"
     ]
    }
   ],
   "source": [
    "#Renaming a column\n",
    "df_pyspark.withColumnRenamed('KG','NewKG').show()"
   ]
  },
  {
   "cell_type": "code",
   "execution_count": null,
   "id": "b221e584",
   "metadata": {},
   "outputs": [],
   "source": []
  }
 ],
 "metadata": {
  "kernelspec": {
   "display_name": "Python 3 (ipykernel)",
   "language": "python",
   "name": "python3"
  },
  "language_info": {
   "codemirror_mode": {
    "name": "ipython",
    "version": 3
   },
   "file_extension": ".py",
   "mimetype": "text/x-python",
   "name": "python",
   "nbconvert_exporter": "python",
   "pygments_lexer": "ipython3",
   "version": "3.8.10"
  }
 },
 "nbformat": 4,
 "nbformat_minor": 5
}
